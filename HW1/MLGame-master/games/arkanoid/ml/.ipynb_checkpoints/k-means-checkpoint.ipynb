{
 "cells": [
  {
   "cell_type": "code",
   "execution_count": null,
   "metadata": {},
   "outputs": [],
   "source": [
    "import pickle\n",
    "import numpy as np\n",
    "from sklearn.neighbors import KNeighborsClassifier\n",
    "from sklearn.model_selection import train_test_split, cross_val_score\n",
    "from sklearn.metrics import  classification_report, confusion_matrix\n",
    "from sklearn.model_selection import GridSearchCV\n",
    "from sklearn.model_selection import StratifiedShuffleSplit\n",
    "\n",
    "#試取資料\n",
    "file = open(\"../log/n3 (1).pickle\", \"rb\")\n",
    "data = pickle.load(file)\n",
    "file.close()\n",
    "\n",
    "print(data)"
   ]
  },
  {
   "cell_type": "code",
   "execution_count": null,
   "metadata": {},
   "outputs": [],
   "source": [
    "scene_info = data['ml']['scene_info']\n",
    "scene_command = data['ml']['command']\n",
    "print(scene_info)\n",
    "print(scene_command)"
   ]
  },
  {
   "cell_type": "code",
   "execution_count": null,
   "metadata": {},
   "outputs": [],
   "source": [
    "for i in range(2, 101):\n",
    "    path = \"../log/n3 (\" + str(i) + \").pickle\"\n",
    "    file = open(path, \"rb\")\n",
    "    data = pickle.load(file)\n",
    "    scene_info = scene_info + data['ml']['scene_info']\n",
    "    scene_command = scene_command + data['ml']['command']\n",
    "    file.close()\n",
    "    \n",
    "print(len(scene_info))\n",
    "print(len(scene_command))"
   ]
  },
  {
   "cell_type": "code",
   "execution_count": null,
   "metadata": {},
   "outputs": [],
   "source": [
    "# 提取特徵\n",
    "\n",
    "scene_info = data['ml']['scene_info']\n",
    "scene_command = data['ml']['command']\n",
    "\n",
    "Ball_x = []\n",
    "Ball_y = []\n",
    "Ball_speed_x = []\n",
    "Ball_speed_y = []\n",
    "Direction = []\n",
    "Platform = []\n",
    "Command = []\n",
    "\n",
    "for i, s in enumerate(scene_info[1:-2]):\n",
    "    Ball_x.append(s['ball'][0])\n",
    "    Ball_y.append(s['ball'][1])\n",
    "    Platform.append(s['platform'][0])\n",
    "    Ball_speed_x.append(scene_info[i+2][\"ball\"][0] - scene_info[i+1][\"ball\"][0])\n",
    "    Ball_speed_y.append(scene_info[i+2][\"ball\"][1] - scene_info[i+1][\"ball\"][1])\n",
    "    if Ball_speed_x[-1] > 0:\n",
    "        if Ball_speed_y[-1] > 0:\n",
    "            # 右下\n",
    "            Direction.append(0)\n",
    "        else:\n",
    "            # 右上\n",
    "            Direction.append(1)\n",
    "    else:\n",
    "        if Ball_speed_y[-1] > 0:\n",
    "            # 左下\n",
    "            Direction.append(2)\n",
    "        else:\n",
    "            # 左上\n",
    "            Direction.append(3)\n",
    "            \n",
    "for c in scene_command[1:-2]:\n",
    "    if c == \"NONE\":\n",
    "        Command.append(0)\n",
    "    elif c == \"MOVE_LEFT\":\n",
    "        Command.append(-1)\n",
    "    elif c == \"MOVE_RIGHT\":\n",
    "        Command.append(1)\n",
    "\n",
    "\n",
    "feature = np.array([Ball_x, Ball_y, Ball_speed_x, Ball_speed_y, Direction, Platform])\n",
    "X = np.transpose(feature) \n",
    "y = scene_command\n",
    "\n",
    "print(feature)\n",
    "\n",
    "print(scene_command[1])\n",
    "scene_command[1] = 0"
   ]
  },
  {
   "cell_type": "code",
   "execution_count": null,
   "metadata": {},
   "outputs": [],
   "source": [
    "# 提取特徵\n",
    "import numpy as np\n",
    "\n",
    "scene_info = data['ml']['scene_info']\n",
    "sene_command = data['ml']['command']\n",
    "\n",
    "k = range(1, len(scene_info)-1)\n",
    "\n",
    "ball_x = np.array([scene_info[i]['ball'][0] for i in k])\n",
    "ball_y = np.array([scene_info[i]['ball'][1] for i in k])\n",
    "ball_speed_x = np.array([scene_info[i+1]['ball'][0] - scene_info[i]['ball'][0] for i in k])\n",
    "ball_speed_y = np.array([scene_info[i+1]['ball'][1] - scene_info[i]['ball'][1] for i in k])\n",
    "direction = np.where(np.vstack((ball_speed_x, ball_speed_y)) > 0, [[1],[0]], [[2],[3]]).sum(axis=0)  # x y: ++1, +-4, -+2, --3\n",
    "platform = np.array([scene_info[i]['platform'][0] for i in k])\n",
    "target = np.where(np.array(scene_command) == 'NONE', 0,\n",
    "                  np.where(np.array(scene_command) == 'MOVE_LEFT', -1, 1))[1:-1]  # [0] SERVE_TO_RIGHT, [1897] None\n"
   ]
  },
  {
   "cell_type": "code",
   "execution_count": null,
   "metadata": {},
   "outputs": [],
   "source": [
    "for i in range(2, len(scene_info) - 1):\n",
    "    g = scene_info[i]\n",
    "    feature = np.hstack((ball_x.reshape(-1, 1),\n",
    "               ball_y.reshape(-1, 1),\n",
    "               ball_speed_x.reshape(-1, 1),\n",
    "               ball_speed_y.reshape(-1, 1),\n",
    "               direction.reshape(-1, 1),\n",
    "               platform.reshape(-1, 1)))\n",
    "    if scene_command[i] == \"NONE\": scene_command[i] = 0\n",
    "    elif scene_command[i] == \"MOVE_LEFT\": scene_command[i] = 1\n",
    "    else: scene_command[i] = 2\n",
    "    \n",
    "answer = np.array(scene_command[1:-1])\n",
    "\n",
    "print(feature)\n",
    "print(feature.shape)\n",
    "print(answer)\n",
    "print(answer.shape)"
   ]
  },
  {
   "cell_type": "code",
   "execution_count": null,
   "metadata": {},
   "outputs": [],
   "source": [
    "#資料劃分\n",
    "x_train, x_test, y_train, y_test = train_test_split(feature, answer, test_size=0.3, random_state=9)\n",
    "#參數區間\n",
    "param_grid = {'n_neighbors':[1, 2, 3]}\n",
    "#交叉驗證 \n",
    "cv = StratifiedShuffleSplit(n_splits=3, test_size=0.3, random_state=12)\n",
    "grid = GridSearchCV(KNeighborsClassifier(), param_grid, cv=cv, verbose=10, n_jobs=6) #n_jobs為平行運算的數量\n",
    "grid.fit(x_train, y_train)\n",
    "grid_predictions = grid.predict(x_test)\n",
    "\n",
    "#儲存\n",
    "file = open('model.pickle', 'wb')\n",
    "pickle.dump(grid, file)\n",
    "file.close()"
   ]
  },
  {
   "cell_type": "code",
   "execution_count": null,
   "metadata": {},
   "outputs": [],
   "source": [
    "#最佳參數\n",
    "print(grid.best_params_)\n",
    "#預測結果\n",
    "#print(grid_predictions)\n",
    "#混淆矩陣\n",
    "print(confusion_matrix(y_test, grid_predictions))\n",
    "#分類結果\n",
    "print(classification_report(y_test, grid_predictions))"
   ]
  }
 ],
 "metadata": {
  "kernelspec": {
   "display_name": "Python 3",
   "language": "python",
   "name": "python3"
  },
  "language_info": {
   "codemirror_mode": {
    "name": "ipython",
    "version": 3
   },
   "file_extension": ".py",
   "mimetype": "text/x-python",
   "name": "python",
   "nbconvert_exporter": "python",
   "pygments_lexer": "ipython3",
   "version": "3.7.6"
  }
 },
 "nbformat": 4,
 "nbformat_minor": 4
}
