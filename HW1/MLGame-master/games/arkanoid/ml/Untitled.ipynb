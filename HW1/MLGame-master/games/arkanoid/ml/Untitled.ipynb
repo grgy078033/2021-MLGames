{
 "cells": [
  {
   "cell_type": "code",
   "execution_count": 1,
   "metadata": {},
   "outputs": [
    {
     "name": "stdout",
     "output_type": "stream",
     "text": [
      "9734722\n",
      "9734722\n"
     ]
    }
   ],
   "source": [
    "import pickle\n",
    "import numpy as np\n",
    "from sklearn.neighbors import KNeighborsClassifier\n",
    "from sklearn.model_selection import train_test_split, cross_val_score\n",
    "from sklearn.metrics import  classification_report, confusion_matrix\n",
    "from sklearn.model_selection import GridSearchCV\n",
    "from sklearn.model_selection import StratifiedShuffleSplit\n",
    "from sklearn import cluster, metrics\n",
    "\n",
    "file = open(\"../log/n3 (1).pickle\", \"rb\")\n",
    "data = pickle.load(file)\n",
    "file.close()\n",
    "scene_info = data['ml']['scene_info']\n",
    "scene_command = data['ml']['command']\n",
    "\n",
    "for i in range(2, 3000):\n",
    "    path = \"../log/n3 (\" + str(i) + \").pickle\"\n",
    "    file = open(path, \"rb\")\n",
    "    data = pickle.load(file)\n",
    "    scene_info = scene_info + data['ml']['scene_info']\n",
    "    scene_command = scene_command + data['ml']['command']\n",
    "    file.close()\n",
    "    \n",
    "print(len(scene_info))\n",
    "print(len(scene_command))"
   ]
  },
  {
   "cell_type": "code",
   "execution_count": 2,
   "metadata": {},
   "outputs": [
    {
     "name": "stdout",
     "output_type": "stream",
     "text": [
      "[[ 93 100 107 ... 105 112 119]\n",
      " [395 388 381 ...  56  63  70]\n",
      " [  7   7   7 ...   7   7   7]\n",
      " [ -7  -7  -7 ...   7   7   5]\n",
      " [  1   1   1 ...   0   0   0]\n",
      " [ 75  70  65 ...  45  45  40]]\n",
      "MOVE_LEFT\n"
     ]
    }
   ],
   "source": [
    "# 提取特徵\n",
    "\n",
    "scene_info = data['ml']['scene_info']\n",
    "scene_command = data['ml']['command']\n",
    "\n",
    "Ball_x = []\n",
    "Ball_y = []\n",
    "Ball_speed_x = []\n",
    "Ball_speed_y = []\n",
    "Direction = []\n",
    "Platform = []\n",
    "Command = []\n",
    "\n",
    "for i, s in enumerate(scene_info[1:-2]):\n",
    "    Ball_x.append(s['ball'][0])\n",
    "    Ball_y.append(s['ball'][1])\n",
    "    Platform.append(s['platform'][0])\n",
    "    Ball_speed_x.append(scene_info[i+2][\"ball\"][0] - scene_info[i+1][\"ball\"][0])\n",
    "    Ball_speed_y.append(scene_info[i+2][\"ball\"][1] - scene_info[i+1][\"ball\"][1])\n",
    "    if Ball_speed_x[-1] > 0:\n",
    "        if Ball_speed_y[-1] > 0:\n",
    "            # 右下\n",
    "            Direction.append(0)\n",
    "        else:\n",
    "            # 右上\n",
    "            Direction.append(1)\n",
    "    else:\n",
    "        if Ball_speed_y[-1] > 0:\n",
    "            # 左下\n",
    "            Direction.append(2)\n",
    "        else:\n",
    "            # 左上\n",
    "            Direction.append(3)\n",
    "            \n",
    "for c in scene_command[1:-2]:\n",
    "    if c == \"NONE\":\n",
    "        Command.append(0)\n",
    "    elif c == \"MOVE_LEFT\":\n",
    "        Command.append(-1)\n",
    "    elif c == \"MOVE_RIGHT\":\n",
    "        Command.append(1)\n",
    "\n",
    "\n",
    "feature = np.array([Ball_x, Ball_y, Ball_speed_x, Ball_speed_y, Direction, Platform])\n",
    "X = np.transpose(feature) \n",
    "y = scene_command\n",
    "\n",
    "print(feature)\n",
    "\n",
    "print(scene_command[1])\n",
    "scene_command[1] = 0"
   ]
  },
  {
   "cell_type": "code",
   "execution_count": 3,
   "metadata": {},
   "outputs": [],
   "source": [
    "# 提取特徵\n",
    "import numpy as np\n",
    "\n",
    "scene_info = data['ml']['scene_info']\n",
    "sene_command = data['ml']['command']\n",
    "\n",
    "k = range(1, len(scene_info)-1)\n",
    "\n",
    "ball_x = np.array([scene_info[i]['ball'][0] for i in k])\n",
    "ball_y = np.array([scene_info[i]['ball'][1] for i in k])\n",
    "ball_speed_x = np.array([scene_info[i+1]['ball'][0] - scene_info[i]['ball'][0] for i in k])\n",
    "ball_speed_y = np.array([scene_info[i+1]['ball'][1] - scene_info[i]['ball'][1] for i in k])\n",
    "direction = np.where(np.vstack((ball_speed_x, ball_speed_y)) > 0, [[1],[0]], [[2],[3]]).sum(axis=0)  # x y: ++1, +-4, -+2, --3\n",
    "platform = np.array([scene_info[i]['platform'][0] for i in k])\n",
    "target = np.where(np.array(scene_command) == 'NONE', 0,\n",
    "                  np.where(np.array(scene_command) == 'MOVE_LEFT', -1, 1))[1:-1]  # [0] SERVE_TO_RIGHT, [1897] None\n"
   ]
  },
  {
   "cell_type": "code",
   "execution_count": 4,
   "metadata": {},
   "outputs": [
    {
     "name": "stdout",
     "output_type": "stream",
     "text": [
      "[[ 93 395   7  -7   4  75]\n",
      " [100 388   7  -7   4  70]\n",
      " [107 381   7  -7   4  65]\n",
      " ...\n",
      " [112  63   7   7   1  45]\n",
      " [119  70   7   5   1  40]\n",
      " [126  75   4  -7   4  35]]\n",
      "(2091, 6)\n",
      "[0 1 0 ... 1 1 0]\n",
      "(2091,)\n"
     ]
    }
   ],
   "source": [
    "for i in range(2, len(scene_info) - 1):\n",
    "    g = scene_info[i]\n",
    "    feature = np.hstack((ball_x.reshape(-1, 1),\n",
    "               ball_y.reshape(-1, 1),\n",
    "               ball_speed_x.reshape(-1, 1),\n",
    "               ball_speed_y.reshape(-1, 1),\n",
    "               direction.reshape(-1, 1),\n",
    "               platform.reshape(-1, 1)))\n",
    "    if scene_command[i] == \"NONE\": scene_command[i] = 0\n",
    "    elif scene_command[i] == \"MOVE_LEFT\": scene_command[i] = 1\n",
    "    else: scene_command[i] = 2\n",
    "    \n",
    "answer = np.array(scene_command[1:-1])\n",
    "\n",
    "print(feature)\n",
    "print(feature.shape)\n",
    "print(answer)\n",
    "print(answer.shape)\n",
    "\n",
    "mask = [5, 2, 3, 4]\n",
    "X = feature[:, mask]"
   ]
  },
  {
   "cell_type": "code",
   "execution_count": 5,
   "metadata": {},
   "outputs": [
    {
     "name": "stdout",
     "output_type": "stream",
     "text": [
      "[2 0 2 1 1 0 1 2 2 1 1 0 1 0 0 1 1 2 1 1 1 1 1 2 1 1 1 1 0 0 1 1 2 0 1 0 1\n",
      " 1 2 0 0 0 0 0 0 1 2 1 0 0 1 0 2 1 1 0 0 0 2 1 1 2 1 1 2 0 2 1 0 0 0 0 2 1\n",
      " 0 0 0 1 2 0 1 2 0 1 0 2 0 0 1 2 0 1 1 1 1 2 1 0 1 1 0 2 0 0 1 0 2 2 1 2 0\n",
      " 1 1 1 2 1 1 1 1 2 1 2 2 1 0 1 1 1 0 2 1 1 1 1 1 1 2 0 1 2 1 1 2 1 2 1 0 2\n",
      " 0 0 0 0 0 0 1 2 1 0 1 1 1 0 0 1 0 1 1 0 0 0 0 1 0 1 0 1 1 1 2 0 2 1 2 1 0\n",
      " 0 1 1 2 1 1 1 1 1 1 1 1 1 0 2 0 0 2 0 2 0 1 1 0 0 1 2 2 0 0 2 1 0 0 0 1 1\n",
      " 2 1 1 0 2 0 1 1 0 0 0 1 2 0 1 1 0 1 2 1 1 2 1 1 0 2 1 1 1 1 1 1 0 0 1 0 1\n",
      " 1 1 1 0 1 1 1 0 1 1 0 1 0 2 2 0 0 0 1 2 1 0 0 1 1 1 2 1 2 0 0 1 2 1 0 2 0\n",
      " 1 1 0 1 0 0 1 2 0 0 2 0 0 1 1 1 2 1 0 0 1 1 1 1 2 1 1 1 1 2 1 2 2 1 0 2 0\n",
      " 1 1 1 1 1 0 0 2 1 1 2 2 1 0 2 1 0 0 1 0 0 2 1 1 1 1 1 0 1 2 2 0 2 2 0 1 0\n",
      " 2 1 0 2 2 2 0 2 1 0 0 1 1 1 2 0 0 0 1 2 1 1 1 1 1 0 1 0 0 2 2 1 0 0 1 1 1\n",
      " 1 1 2 1 0 1 1 2 2 1 1 0]\n",
      "Accuracy =   46.778%\n"
     ]
    }
   ],
   "source": [
    "x_train, x_test, y_train, y_test = train_test_split(X, answer, test_size=0.2)\n",
    "knn = KNeighborsClassifier(n_neighbors = 4)\n",
    "platform_predict_clf = knn.fit(x_train, y_train)\n",
    "\n",
    "y_predict = platform_predict_clf.predict(x_test)\n",
    "print(y_predict)\n",
    "\n",
    "accuracy = metrics.accuracy_score(y_test, y_predict)\n",
    "print(\"Accuracy = {:8.3f}%\".format(accuracy*100))"
   ]
  },
  {
   "cell_type": "code",
   "execution_count": 6,
   "metadata": {},
   "outputs": [],
   "source": [
    "file = open('model.pickle', 'wb')\n",
    "pickle.dump(knn, file)\n",
    "file.close()"
   ]
  },
  {
   "cell_type": "code",
   "execution_count": null,
   "metadata": {},
   "outputs": [],
   "source": []
  }
 ],
 "metadata": {
  "kernelspec": {
   "display_name": "Python 3",
   "language": "python",
   "name": "python3"
  },
  "language_info": {
   "codemirror_mode": {
    "name": "ipython",
    "version": 3
   },
   "file_extension": ".py",
   "mimetype": "text/x-python",
   "name": "python",
   "nbconvert_exporter": "python",
   "pygments_lexer": "ipython3",
   "version": "3.7.6"
  }
 },
 "nbformat": 4,
 "nbformat_minor": 4
}
