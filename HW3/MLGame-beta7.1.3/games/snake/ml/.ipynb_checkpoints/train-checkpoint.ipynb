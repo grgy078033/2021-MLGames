{
 "cells": [
  {
   "cell_type": "code",
   "execution_count": 1,
   "metadata": {},
   "outputs": [],
   "source": [
    "import pickle\n",
    "import numpy as np\n",
    "from sklearn.neighbors import KNeighborsClassifier\n",
    "from sklearn.model_selection import train_test_split, cross_val_score\n",
    "from sklearn.metrics import  classification_report, confusion_matrix\n",
    "from sklearn.model_selection import GridSearchCV\n",
    "from sklearn.model_selection import StratifiedShuffleSplit\n",
    "from sklearn import cluster, metrics\n",
    "\n",
    "#試取資料\n",
    "file = open(\"../log/ml.pickle\", \"rb\")\n",
    "data = pickle.load(file)\n",
    "file.close()\n",
    "\n",
    "print(data)"
   ]
  },
  {
   "cell_type": "code",
   "execution_count": 2,
   "metadata": {},
   "outputs": [],
   "source": [
    "# 提取特徵\n",
    "\n",
    "scene_info = data['scene_info']\n",
    "scene_command = data['command']\n",
    "\n",
    "SnakeHead_x = []\n",
    "SnakeHead_y = []\n",
    "command = []\n",
    "\n",
    "for i, s in enumerate(scene_info[1:-2]):\n",
    "    SnakeHead_x.append(s['snake_head'][0])\n",
    "    SnakeHead_y.append(s['snake_head'][1])\n",
    "            \n",
    "for c in scene_command[1:-2]:\n",
    "    if c == \"UP\":\n",
    "        command.append(1)\n",
    "    elif c == \"LEFT\":\n",
    "        command.append(2)\n",
    "    elif c == \"DOWN\":\n",
    "        command.append(3)\n",
    "    elif c == \"RIGHT\":\n",
    "        command.append(4)\n",
    "    else :\n",
    "        command.append(0)"
   ]
  },
  {
   "cell_type": "code",
   "execution_count": 3,
   "metadata": {},
   "outputs": [],
   "source": [
    "import numpy as np\n",
    "\n",
    "numpy_data = np.array([SnakeHead_x, SnakeHead_y])\n",
    "feature = np.transpose(numpy_data) \n",
    "answer = np.transpose(command)"
   ]
  },
  {
   "cell_type": "code",
   "execution_count": 4,
   "metadata": {},
   "outputs": [
    {
     "data": {
      "text/plain": [
       "array([[ 40,  50],\n",
       "       [ 40,  60],\n",
       "       [ 40,  70],\n",
       "       ...,\n",
       "       [  0, 250],\n",
       "       [  0, 260],\n",
       "       [  0, 270]])"
      ]
     },
     "execution_count": 4,
     "metadata": {},
     "output_type": "execute_result"
    }
   ],
   "source": [
    "feature"
   ]
  },
  {
   "cell_type": "code",
   "execution_count": 5,
   "metadata": {},
   "outputs": [
    {
     "data": {
      "text/plain": [
       "array([0, 0, 0, ..., 0, 0, 0])"
      ]
     },
     "execution_count": 5,
     "metadata": {},
     "output_type": "execute_result"
    }
   ],
   "source": [
    "answer"
   ]
  },
  {
   "cell_type": "code",
   "execution_count": 6,
   "metadata": {},
   "outputs": [
    {
     "name": "stdout",
     "output_type": "stream",
     "text": [
      "(202639, 2)\n",
      "(202639,)\n"
     ]
    }
   ],
   "source": [
    "print(feature.shape)\n",
    "print(answer.shape)"
   ]
  },
  {
   "cell_type": "code",
   "execution_count": 7,
   "metadata": {},
   "outputs": [
    {
     "name": "stdout",
     "output_type": "stream",
     "text": [
      "Fitting 3 folds for each of 3 candidates, totalling 9 fits\n"
     ]
    },
    {
     "name": "stderr",
     "output_type": "stream",
     "text": [
      "[Parallel(n_jobs=6)]: Using backend LokyBackend with 6 concurrent workers.\n",
      "[Parallel(n_jobs=6)]: Done   2 out of   9 | elapsed:    7.3s remaining:   25.9s\n",
      "[Parallel(n_jobs=6)]: Done   3 out of   9 | elapsed:    7.4s remaining:   14.9s\n",
      "[Parallel(n_jobs=6)]: Done   4 out of   9 | elapsed:    7.4s remaining:    9.3s\n",
      "[Parallel(n_jobs=6)]: Done   5 out of   9 | elapsed:    7.7s remaining:    6.1s\n",
      "[Parallel(n_jobs=6)]: Done   6 out of   9 | elapsed:    7.7s remaining:    3.8s\n",
      "[Parallel(n_jobs=6)]: Done   7 out of   9 | elapsed:   11.9s remaining:    3.3s\n",
      "[Parallel(n_jobs=6)]: Done   9 out of   9 | elapsed:   12.5s remaining:    0.0s\n",
      "[Parallel(n_jobs=6)]: Done   9 out of   9 | elapsed:   12.5s finished\n"
     ]
    }
   ],
   "source": [
    "#資料劃分\n",
    "x_train, x_test, y_train, y_test = train_test_split(feature, answer, test_size=0.3, random_state=9)\n",
    "#參數區間\n",
    "param_grid = {'n_neighbors':[1, 2, 3]}\n",
    "#交叉驗證 \n",
    "cv = StratifiedShuffleSplit(n_splits=3, test_size=0.3, random_state=9)\n",
    "grid = GridSearchCV(KNeighborsClassifier(), param_grid, cv=cv, verbose=10, n_jobs=6) #n_jobs為平行運算的數量\n",
    "grid.fit(x_train, y_train)\n",
    "grid_predictions = grid.predict(x_test)\n",
    "\n",
    "#儲存\n",
    "file = open('model.pickle', 'wb')\n",
    "pickle.dump(grid, file)\n",
    "file.close()"
   ]
  },
  {
   "cell_type": "code",
   "execution_count": 8,
   "metadata": {},
   "outputs": [
    {
     "name": "stdout",
     "output_type": "stream",
     "text": [
      "{'n_neighbors': 1}\n",
      "[[54778     0     0     0     0]\n",
      " [    0  1067     0     0     0]\n",
      " [    0     0  1920     0     0]\n",
      " [    0     0     0  1084     0]\n",
      " [    0     0     0     0  1943]]\n",
      "              precision    recall  f1-score   support\n",
      "\n",
      "           0       1.00      1.00      1.00     54778\n",
      "           1       1.00      1.00      1.00      1067\n",
      "           2       1.00      1.00      1.00      1920\n",
      "           3       1.00      1.00      1.00      1084\n",
      "           4       1.00      1.00      1.00      1943\n",
      "\n",
      "    accuracy                           1.00     60792\n",
      "   macro avg       1.00      1.00      1.00     60792\n",
      "weighted avg       1.00      1.00      1.00     60792\n",
      "\n"
     ]
    }
   ],
   "source": [
    "#最佳參數\n",
    "print(grid.best_params_)\n",
    "#預測結果\n",
    "#print(grid_predictions)\n",
    "#混淆矩陣\n",
    "print(confusion_matrix(y_test, grid_predictions))\n",
    "#分類結果\n",
    "print(classification_report(y_test, grid_predictions))"
   ]
  },
  {
   "cell_type": "code",
   "execution_count": null,
   "metadata": {},
   "outputs": [],
   "source": []
  }
 ],
 "metadata": {
  "kernelspec": {
   "display_name": "Python 3",
   "language": "python",
   "name": "python3"
  },
  "language_info": {
   "codemirror_mode": {
    "name": "ipython",
    "version": 3
   },
   "file_extension": ".py",
   "mimetype": "text/x-python",
   "name": "python",
   "nbconvert_exporter": "python",
   "pygments_lexer": "ipython3",
   "version": "3.7.6"
  }
 },
 "nbformat": 4,
 "nbformat_minor": 4
}
